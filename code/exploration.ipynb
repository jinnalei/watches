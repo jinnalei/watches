{
 "cells": [
  {
   "cell_type": "markdown",
   "metadata": {},
   "source": [
    "# Notes to self:\n",
    "Variables:\n",
    "* Unprocessed or denoised\n",
    "* Length of STFT window\n",
    "* First second of all data or first sample or random second or all samples"
   ]
  },
  {
   "cell_type": "code",
   "execution_count": null,
   "metadata": {},
   "outputs": [],
   "source": [
    "# Setup\n",
    "import librosa\n",
    "import os\n",
    "%matplotlib inline\n",
    "import matplotlib.pyplot as plt\n",
    "\n",
    "\n",
    "def firstSecond(wav_names, prefix):\n",
    "    \"\"\"Grabs the first second of the first wav file.\"\"\"\n",
    "    w = next(wav_names)\n",
    "    path = os.path.join(prefix, w)\n",
    "    sample, sampling_rate = librosa.load(path)\n",
    "    segment = sample[:sampling_rate]    # Grab a 1s segment\n",
    "    return segment, sampling_rate\n",
    "\n",
    "def firstSample(wav_names, prefix):\n",
    "    \"\"\"Grabs all of the first sample.\"\"\"\n",
    "    w = next(wav_names)\n",
    "    path = os.path.join(prefix, w)\n",
    "    return librosa.load(path)\n",
    "\n",
    "notHidden = lambda x: not x.startswith('.')\n",
    "def visualize(visFun, choiceFun=firstSecond, data_dir='../data'):\n",
    "    classes = filter(notHidden, os.listdir(data_dir)) \n",
    "    for c in classes:\n",
    "        wavs = filter(notHidden, os.listdir(data_dir + '/' + c))\n",
    "        segment, sampling_rate = choiceFun(wavs, os.path.join(data_dir, c))\n",
    "        visFun(c, segment, sampling_rate)\n",
    "\n"
   ]
  },
  {
   "cell_type": "code",
   "execution_count": null,
   "metadata": {},
   "outputs": [],
   "source": []
  },
  {
   "cell_type": "code",
   "execution_count": null,
   "metadata": {},
   "outputs": [],
   "source": [
    "from IPython.display import Audio\n",
    "from IPython.display import display\n",
    "\n",
    "def playAudio(label, segment, sampling_rate):\n",
    "    print(label)\n",
    "    display(Audio(segment, rate=sampling_rate, autoplay=False))\n",
    "\n",
    "visualize(playAudio)"
   ]
  },
  {
   "cell_type": "code",
   "execution_count": null,
   "metadata": {},
   "outputs": [],
   "source": [
    "def plotAmplitude(label, segment, sampling_rate):\n",
    "    fig = plt.figure(figsize=(14,5))\n",
    "    librosa.display.waveshow(segment, sr=sampling_rate, color='blue')\n",
    "    fig.suptitle(label)\n",
    "\n",
    "visualize(plotAmplitude)"
   ]
  },
  {
   "cell_type": "code",
   "execution_count": null,
   "metadata": {},
   "outputs": [],
   "source": [
    "def viewSpectrogram(label, segment, sampling_rate):\n",
    "    sgram = librosa.stft(segment, n_fft=16384)\n",
    "    sgram_mag, _ = librosa.magphase(sgram)\n",
    "    mel_sgram = librosa.feature.melspectrogram(S=sgram_mag, sr=sampling_rate)\n",
    "\n",
    "    fig = plt.figure(figsize=(14,5))\n",
    "    librosa.display.specshow(mel_sgram)\n",
    "    fig.suptitle(label)\n",
    "\n",
    "visualize(viewSpectrogram)"
   ]
  },
  {
   "cell_type": "code",
   "execution_count": null,
   "metadata": {},
   "outputs": [],
   "source": [
    "visualize(viewSpectrogram, choiceFun=firstSample)"
   ]
  },
  {
   "cell_type": "code",
   "execution_count": null,
   "metadata": {},
   "outputs": [],
   "source": [
    "from IPython.display import Audio\n",
    "from IPython.display import display\n",
    "import librosa\n",
    "import os\n",
    "\n",
    "\n",
    "DATA_DIR = '../data'\n",
    "notHidden = lambda x: not x.startswith('.')\n",
    "classes = filter(notHidden, os.listdir(DATA_DIR))\n",
    "\n",
    "# Play the first second of the first sample of each class\n",
    "for c in classes:\n",
    "    wavs = filter(notHidden, os.listdir(DATA_DIR + '/' + c))\n",
    "    w = next(wavs)\n",
    "    path = os.path.join(DATA_DIR, c, w)\n",
    "    sample, sampling_rate = librosa.load(path)\n",
    "    segment = sample[:sampling_rate]    # Grab a 1s segment\n",
    "    print(c)\n",
    "    display(Audio(segment, rate=sampling_rate, autoplay=False))\n"
   ]
  },
  {
   "cell_type": "code",
   "execution_count": null,
   "metadata": {},
   "outputs": [],
   "source": [
    "%matplotlib inline\n",
    "import matplotlib.pyplot as plt\n",
    "import librosa.display\n",
    "import os\n",
    "\n",
    "DATA_DIR = '../data'\n",
    "\n",
    "notHidden = lambda x: not x.startswith('.')\n",
    "classes = filter(notHidden, os.listdir(DATA_DIR))\n",
    "\n",
    "# Play the first second of the first sample of each class\n",
    "for c in classes:\n",
    "    wavs = filter(notHidden, os.listdir(DATA_DIR + '/' + c))\n",
    "    w = next(wavs)\n",
    "    path = os.path.join(DATA_DIR, c, w)\n",
    "    sample, sampling_rate = librosa.load(path)\n",
    "    segment = sample[:sampling_rate]    # Grab a 1s segment\n",
    "    fig = plt.figure(figsize=(14,5))\n",
    "    librosa.display.waveshow(segment, sr=sampling_rate, color='blue')\n",
    "    fig.suptitle(c)"
   ]
  },
  {
   "cell_type": "code",
   "execution_count": null,
   "metadata": {},
   "outputs": [],
   "source": [
    "%matplotlib inline\n",
    "import matplotlib.pyplot as plt\n",
    "import librosa\n",
    "import librosa.display\n",
    "import os\n",
    "\n",
    "DATA_DIR = '../data'\n",
    "\n",
    "notHidden = lambda x: not x.startswith('.')\n",
    "classes = filter(notHidden, os.listdir(DATA_DIR))\n",
    "\n",
    "# Play the first sample of each class\n",
    "for c in classes:\n",
    "    wavs = filter(notHidden, os.listdir(DATA_DIR + '/' + c))\n",
    "    w = next(wavs)\n",
    "    path = os.path.join(DATA_DIR, c, w)\n",
    "    sample, sampling_rate = librosa.load(path)\n",
    "    \n",
    "    sgram = librosa.stft(sample, n_fft=16384)\n",
    "    sgram_mag, _ = librosa.magphase(sgram)\n",
    "    mel_sgram = librosa.feature.melspectrogram(S=sgram_mag, sr=sampling_rate)\n",
    "\n",
    "    fig = plt.figure(figsize=(14,5))\n",
    "    librosa.display.specshow(mel_sgram)\n",
    "    fig.suptitle(c)"
   ]
  },
  {
   "cell_type": "code",
   "execution_count": null,
   "metadata": {},
   "outputs": [],
   "source": [
    "%matplotlib inline\n",
    "import matplotlib.pyplot as plt\n",
    "import librosa.display\n",
    "import os\n",
    "\n",
    "DATA_DIR = '../data'\n",
    "\n",
    "notHidden = lambda x: not x.startswith('.')\n",
    "classes = filter(notHidden, os.listdir(DATA_DIR))\n",
    "\n",
    "# Play the first sample of each class\n",
    "for c in classes:\n",
    "    wavs = filter(notHidden, os.listdir(DATA_DIR + '/' + c))\n",
    "    w = next(wavs)\n",
    "    path = os.path.join(DATA_DIR, c, w)\n",
    "    sample, sampling_rate = librosa.load(path)\n",
    "    segment = sample[:sampling_rate]    # Grab a 1s segment\n",
    "\n",
    "    sgram = librosa.stft(segment, n_fft=16384)\n",
    "    sgram_mag, _ = librosa.magphase(sgram)\n",
    "    mel_sgram = librosa.feature.melspectrogram(S=sgram_mag, sr=sampling_rate)\n",
    "\n",
    "    fig = plt.figure(figsize=(14,5))\n",
    "    librosa.display.specshow(mel_sgram)\n",
    "    fig.suptitle(c)"
   ]
  }
 ],
 "metadata": {
  "kernelspec": {
   "display_name": "Python 3",
   "language": "python",
   "name": "python3"
  },
  "language_info": {
   "codemirror_mode": {
    "name": "ipython",
    "version": 3
   },
   "file_extension": ".py",
   "mimetype": "text/x-python",
   "name": "python",
   "nbconvert_exporter": "python",
   "pygments_lexer": "ipython3",
   "version": "3.9.6"
  }
 },
 "nbformat": 4,
 "nbformat_minor": 2
}
