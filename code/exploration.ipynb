{
 "cells": [
  {
   "cell_type": "markdown",
   "metadata": {},
   "source": [
    "# Notes to self:\n"
   ]
  },
  {
   "cell_type": "code",
   "execution_count": null,
   "metadata": {},
   "outputs": [],
   "source": [
    "# Setup\n",
    "import librosa\n",
    "import os\n",
    "import numpy as np\n",
    "%matplotlib inline\n",
    "import matplotlib.pyplot as plt\n",
    "from luis_data_prep.NoiseGate import NoiseGate\n",
    "\n",
    "def firstNSeconds(wav_names, prefix, n):\n",
    "    \"\"\"Grabs the first ten seconds of the first wav file.\"\"\"\n",
    "    w = next(wav_names)\n",
    "    path = os.path.join(prefix, w)\n",
    "    sample, sampling_rate = librosa.load(path)\n",
    "    segment = sample[:sampling_rate*n]\n",
    "    return segment, sampling_rate\n",
    "\n",
    "def firstSeconds(n):\n",
    "    return lambda x, y: firstNSeconds(x, y, n)\n",
    "\n",
    "def firstSample(wav_names, prefix):\n",
    "    \"\"\"Grabs all of the first sample.\"\"\"\n",
    "    w = next(wav_names)\n",
    "    path = os.path.join(prefix, w)\n",
    "    return librosa.load(path)\n",
    "\n",
    "def clampSignal(segment):\n",
    "    energy = NoiseGate.short_term_energy(segment, 100)\n",
    "    mean_e = np.average(energy)\n",
    "    stddev_e = np.std(energy)\n",
    "    return NoiseGate.clamp_below_threshold(segment, energy, mean_e, 100)\n",
    "\n",
    "def passthrough(segment):\n",
    "    return segment\n",
    "\n",
    "notHidden = lambda x: not x.startswith('.')\n",
    "def visualize(visFun, choiceFun=firstSeconds(1), preprocess=passthrough, data_dir='../data'):\n",
    "    classes = filter(notHidden, os.listdir(data_dir)) \n",
    "    for c in classes:\n",
    "        wavs = filter(notHidden, os.listdir(data_dir + '/' + c))\n",
    "        segment, sampling_rate = choiceFun(wavs, os.path.join(data_dir, c))\n",
    "        segment = preprocess(segment)\n",
    "        visFun(c, segment, sampling_rate)\n"
   ]
  },
  {
   "cell_type": "code",
   "execution_count": null,
   "metadata": {},
   "outputs": [],
   "source": [
    "def viewEnergy(label, segment, sr):\n",
    "    energy = NoiseGate.short_term_energy(segment, 100)\n",
    "    mean_e = np.average(energy)\n",
    "    stddev_e = np.std(energy)\n",
    "    fig = plt.figure()\n",
    "    plt.plot(energy)\n",
    "    plt.plot([0, len(energy)], [mean_e, mean_e])\n",
    "    plt.plot([0, len(energy)], [mean_e + 2*stddev_e, mean_e + 2*stddev_e])\n",
    "visualize(viewEnergy, firstSeconds(1))"
   ]
  },
  {
   "cell_type": "code",
   "execution_count": null,
   "metadata": {},
   "outputs": [],
   "source": [
    "from IPython.display import Audio\n",
    "from IPython.display import display\n",
    "\n",
    "def playAudio(label, segment, sampling_rate):\n",
    "    print(label)\n",
    "    display(Audio(segment, rate=sampling_rate, autoplay=False))\n",
    "\n",
    "visualize(playAudio)"
   ]
  },
  {
   "cell_type": "code",
   "execution_count": null,
   "metadata": {},
   "outputs": [],
   "source": [
    "def plotAmplitude(label, segment, sampling_rate):\n",
    "    fig = plt.figure(figsize=(14,5))\n",
    "    librosa.display.waveshow(segment, sr=sampling_rate, color='blue')\n",
    "    fig.suptitle(label)\n",
    "\n",
    "visualize(plotAmplitude, firstSeconds(1), clampSignal)"
   ]
  },
  {
   "cell_type": "code",
   "execution_count": null,
   "metadata": {},
   "outputs": [],
   "source": [
    "# Run basic FFT over the signal\n",
    "from scipy.fft import fft, fftfreq\n",
    "\n",
    "def viewFft(label, segment, sampling_rate):\n",
    "    yf = fft(segment)\n",
    "    xf = fftfreq(len(segment), 1/sampling_rate)\n",
    "\n",
    "    fig = plt.figure(figsize=(14,5))\n",
    "    plt.plot(xf[:len(segment)//2], np.abs(yf[:len(segment)//2]))\n",
    "    fig.suptitle(label)\n",
    "\n",
    "visualize(viewFft, firstSeconds(1))"
   ]
  },
  {
   "cell_type": "code",
   "execution_count": null,
   "metadata": {},
   "outputs": [],
   "source": [
    "def viewSpectrogram(label, segment, sampling_rate):\n",
    "    sgram = librosa.stft(segment, n_fft=2048)\n",
    "    sgram_db = librosa.power_to_db(np.abs(sgram), ref=np.max)\n",
    "    \n",
    "    fig = plt.figure(figsize=(14,5))\n",
    "    librosa.display.specshow(sgram_db, x_axis='time')\n",
    "    fig.suptitle(label)\n",
    "\n",
    "visualize(viewSpectrogram, choiceFun=firstSeconds(1))"
   ]
  },
  {
   "cell_type": "code",
   "execution_count": null,
   "metadata": {},
   "outputs": [],
   "source": [
    "def viewMelSpectrogram(label, segment, sampling_rate):\n",
    "    sgram = librosa.stft(segment, n_fft=2048)\n",
    "    sgram_mag, _ = librosa.magphase(sgram)\n",
    "    mel_sgram = librosa.feature.melspectrogram(S=sgram_mag, sr=sampling_rate)\n",
    "    mel_sgram = librosa.power_to_db(mel_sgram, ref=np.max)\n",
    "\n",
    "    fig = plt.figure(figsize=(14,5))\n",
    "    librosa.display.specshow(mel_sgram, x_axis='time', y_axis='mel')\n",
    "    fig.suptitle(label)\n",
    "\n",
    "visualize(viewMelSpectrogram, choiceFun=firstSeconds(1))"
   ]
  },
  {
   "cell_type": "code",
   "execution_count": null,
   "metadata": {},
   "outputs": [],
   "source": [
    "visualize(viewMelSpectrogram, choiceFun=firstSample)"
   ]
  },
  {
   "cell_type": "code",
   "execution_count": null,
   "metadata": {},
   "outputs": [],
   "source": [
    "# MFCCs\n",
    "def viewMfcc(label, segment, sampling_rate):\n",
    "    mfcc = librosa.feature.mfcc(y=segment, sr=sampling_rate)\n",
    "    fig = plt.figure(figsize=(14,5))\n",
    "    librosa.display.specshow(mfcc, x_axis='time')\n",
    "    fig.suptitle(label)\n",
    "\n",
    "visualize(viewMfcc, choiceFun=firstSeconds(1))"
   ]
  }
 ],
 "metadata": {
  "kernelspec": {
   "display_name": "Python 3",
   "language": "python",
   "name": "python3"
  },
  "language_info": {
   "codemirror_mode": {
    "name": "ipython",
    "version": 3
   },
   "file_extension": ".py",
   "mimetype": "text/x-python",
   "name": "python",
   "nbconvert_exporter": "python",
   "pygments_lexer": "ipython3",
   "version": "3.9.6"
  }
 },
 "nbformat": 4,
 "nbformat_minor": 2
}
